{
 "cells": [
  {
   "cell_type": "markdown",
   "metadata": {},
   "source": [
    "# demonstration of `permute_seq_within_FASTA_an_amount.py` script\n",
    "\n",
    "If you'd like an active Jupyter session to run this notebook, launch one by clicking [here](https://mybinder.org/v2/gh/fomightez/clausen_ribonucleotides/master), and then upload this notebook to the session that starts up.  \n",
    "Otherwise, the static version is rendered more nicely via [here](https://nbviewer.jupyter.org/github/fomightez/sequencework/blob/master/AdjustFASTA_or_FASTQ/demo%20permute_seq_within_FASTA_an_amount.ipynb).\n",
    "\n",
    "<div class=\"alert alert-block alert-warning\">\n",
    "<p>If you haven't used one of these notebooks before, they're basically web pages in which you can write, edit, and run live code. They're meant to encourage experimentation, so don't feel nervous. Just try running a few cells and see what happens!.</p>\n",
    "\n",
    "<p>\n",
    "    Some tips:\n",
    "    <ul>\n",
    "        <li>Code cells have boxes around them. When you hover over them a <i class=\"fa-step-forward fa\"></i> icon appears.</li>\n",
    "        <li>To run a code cell either click the <i class=\"fa-step-forward fa\"></i> icon, or click on the cell and then hit <b>Shift+Enter</b>. The <b>Shift+Enter</b> combo will also move you to the next cell, so it's a quick way to work through the notebook.</li>\n",
    "        <li>While a cell is running a <b>*</b> appears in the square brackets next to the cell. Once the cell has finished running the asterix will be replaced with a number.</li>\n",
    "        <li>In most cases you'll want to start from the top of notebook and work your way down running each cell in turn. Later cells might depend on the results of earlier ones.</li>\n",
    "        <li>To edit a code cell, just click on it and type stuff. Remember to run the cell once you've finished editing.</li>\n",
    "    </ul>\n",
    "</p>\n",
    "</div>\n",
    "\n",
    "You'll need the current version of the script to run this notebook, and the next cell will get that. (Remember if you want to make things more reproducible when you use the script with your own data, you'll want to edit calls such as this to fetch a specific version of the script. How to do this is touched upon in the comment below [here](https://stackoverflow.com/a/48587645/8508004)."
   ]
  },
  {
   "cell_type": "code",
   "execution_count": 1,
   "metadata": {},
   "outputs": [
    {
     "name": "stdout",
     "output_type": "stream",
     "text": [
      "  % Total    % Received % Xferd  Average Speed   Time    Time     Time  Current\n",
      "                                 Dload  Upload   Total   Spent    Left  Speed\n",
      "100 14978  100 14978    0     0   187k      0 --:--:-- --:--:-- --:--:--  187k\n"
     ]
    }
   ],
   "source": [
    "!curl -O https://raw.githubusercontent.com/fomightez/sequencework/master/AdjustFASTA_or_FASTQ/permute_seq_within_FASTA_an_amount.py"
   ]
  },
  {
   "cell_type": "markdown",
   "metadata": {},
   "source": [
    "## Display Usage / Help Block"
   ]
  },
  {
   "cell_type": "code",
   "execution_count": 2,
   "metadata": {},
   "outputs": [
    {
     "name": "stdout",
     "output_type": "stream",
     "text": [
      "usage: permute_seq_within_FASTA_an_amount.py [-h]\n",
      "                                             SEQUENCE_FILE RECORD_ID DISTANCE\n",
      "\n",
      "permute_seq_within_FASTA_an_amount.py takes a sequence file (FASTA-format),\n",
      "and a record id, and permutes that circular sequence so the position that is\n",
      "the specified amount from the original 'start' becomes the new 'start'\n",
      "position.. **** Script by Wayne Decatur (fomightez @ github) ***\n",
      "\n",
      "positional arguments:\n",
      "  SEQUENCE_FILE  Name of sequence file to use as input. Must be FASTA format.\n",
      "                 Can be a multi-FASTA file, i.e., multiple sequences in FASTA\n",
      "                 format in one file.\n",
      "  RECORD_ID      Specific identifier of sequence entry in sequence file to\n",
      "                 permute. If the provided sequence file only contains one\n",
      "                 sequence, that sequence will be permuted and what is provided\n",
      "                 for this parameter will be ignored. In other words, if the\n",
      "                 sequence file is not a multi-FASTA file, you don't need to\n",
      "                 determine the identifier and can instead just enter\n",
      "                 `blahblah` or any other nonsensical string in this spot.\n",
      "  DISTANCE       Amount of base pairs to permute the sequence; the new start\n",
      "                 will be this amount after the original start point\n",
      "\n",
      "optional arguments:\n",
      "  -h, --help     show this help message and exit\n"
     ]
    }
   ],
   "source": [
    "%run permute_seq_within_FASTA_an_amount.py -h"
   ]
  },
  {
   "cell_type": "markdown",
   "metadata": {},
   "source": [
    "To read more about this script beyond that and what is covered below, see [here](https://github.com/fomightez/sequencework/tree/master/Extract_Details_or_Annotation).\n",
    "\n",
    "-----\n",
    "\n",
    "## Basic use examples set #1: Using from the command line (or equivalent / similar)\n",
    "\n",
    "### Preparing for usage example"
   ]
  },
  {
   "cell_type": "code",
   "execution_count": 3,
   "metadata": {},
   "outputs": [],
   "source": [
    "#write example FASTA to file\n",
    "s = '''>test\n",
    "atcg\n",
    ">other\n",
    "ACTGAGGGACCAGATCTATATAT\n",
    "'''\n",
    "\n",
    "!echo \"{s}\" > sequence.fa"
   ]
  },
  {
   "cell_type": "markdown",
   "metadata": {},
   "source": [
    "### Run the script"
   ]
  },
  {
   "cell_type": "code",
   "execution_count": 4,
   "metadata": {},
   "outputs": [
    {
     "name": "stdout",
     "output_type": "stream",
     "text": [
      "None\n"
     ]
    },
    {
     "name": "stderr",
     "output_type": "stream",
     "text": [
      "The file sequence_permuted.fa with the sequence start permuted to position 3 has been generated."
     ]
    }
   ],
   "source": [
    "%%bash\n",
    "python permute_seq_within_FASTA_an_amount.py sequence.fa test 3"
   ]
  },
  {
   "cell_type": "markdown",
   "metadata": {},
   "source": [
    "The file `sequence_permuted.fa` will contain the output.\n"
   ]
  },
  {
   "cell_type": "code",
   "execution_count": 5,
   "metadata": {},
   "outputs": [
    {
     "name": "stdout",
     "output_type": "stream",
     "text": [
      ">test [PERMUTED]\n",
      "cgat\n"
     ]
    }
   ],
   "source": [
    "!cat sequence_permuted.fa"
   ]
  },
  {
   "cell_type": "markdown",
   "metadata": {},
   "source": [
    "What if just one sequence was provided in the FASTA file?"
   ]
  },
  {
   "cell_type": "code",
   "execution_count": 6,
   "metadata": {},
   "outputs": [],
   "source": [
    "#write example FASTA to file\n",
    "s = '''>test\n",
    "atcg\n",
    "'''\n",
    "\n",
    "!echo \"{s}\" > single_sequence.fa"
   ]
  },
  {
   "cell_type": "markdown",
   "metadata": {},
   "source": [
    "You still have to provide *something* for record identifier, but it can be any string. In the example, below `moot` is used. Completely irrelevant but the 'placeholder' makes the command have all the parts needed."
   ]
  },
  {
   "cell_type": "code",
   "execution_count": 7,
   "metadata": {},
   "outputs": [
    {
     "name": "stdout",
     "output_type": "stream",
     "text": [
      "None\n"
     ]
    },
    {
     "name": "stderr",
     "output_type": "stream",
     "text": [
      "Single sequence with id of 'test' provided in the sequence file.\n",
      "It will be permuted.\n",
      "\n",
      "The file single_sequence_permuted.fa with the sequence start permuted to position 3 has been generated."
     ]
    }
   ],
   "source": [
    "%%bash\n",
    "python permute_seq_within_FASTA_an_amount.py single_sequence.fa moot 3"
   ]
  },
  {
   "cell_type": "markdown",
   "metadata": {},
   "source": [
    "If you are used to using Jupyter notebooks, you can use `%run` instead of `permute_seq_within_FASTA_an_amount.py sequence.fa moot 3 to get the same result."
   ]
  },
  {
   "cell_type": "markdown",
   "metadata": {},
   "source": [
    "------\n",
    "\n",
    "## Basic use example set #2: Use the main function via import\n",
    "\n",
    "Very useful for when using this in a Jupyter notebook to build into a pipeline or workflow."
   ]
  },
  {
   "cell_type": "markdown",
   "metadata": {},
   "source": [
    "Prepare first by importing the main function from the script into the notbeook environment."
   ]
  },
  {
   "cell_type": "code",
   "execution_count": 8,
   "metadata": {},
   "outputs": [],
   "source": [
    "from permute_seq_within_FASTA_an_amount import permute_seq_within_FASTA_an_amount"
   ]
  },
  {
   "cell_type": "markdown",
   "metadata": {},
   "source": [
    "(That call will look redundant; however, it actually means `from the file permute_seq_within_FASTA_an_amount.py  import the permute_seq_within_FASTA_an_amount() function`.)\n",
    "\n",
    "Then call that function and provide the needed arguments in the call.  \n",
    "The function will return as a string the resulting file name containing the permuted sequence, and so the function call should be assigned to a variable."
   ]
  },
  {
   "cell_type": "code",
   "execution_count": 9,
   "metadata": {},
   "outputs": [],
   "source": [
    "fn = permute_seq_within_FASTA_an_amount(\"sequence.fa\", \"test\", 3)"
   ]
  },
  {
   "cell_type": "code",
   "execution_count": 10,
   "metadata": {},
   "outputs": [
    {
     "name": "stdout",
     "output_type": "stream",
     "text": [
      "sequence_permuted.fa\n"
     ]
    }
   ],
   "source": [
    "print(fn)"
   ]
  },
  {
   "cell_type": "code",
   "execution_count": 11,
   "metadata": {},
   "outputs": [
    {
     "name": "stdout",
     "output_type": "stream",
     "text": [
      ">test [PERMUTED]\n",
      "cgat\n"
     ]
    }
   ],
   "source": [
    "!cat {fn}"
   ]
  },
  {
   "cell_type": "markdown",
   "metadata": {},
   "source": [
    "*Remember you can dispense with providing an actual, real record id if there is only one record.*\n",
    "\n",
    "You just need to supply *something* in that spot as a 'placeholder'."
   ]
  },
  {
   "cell_type": "code",
   "execution_count": 12,
   "metadata": {},
   "outputs": [
    {
     "name": "stderr",
     "output_type": "stream",
     "text": [
      "Single sequence with id of 'test' provided in the sequence file.\n",
      "It will be permuted.\n",
      "\n"
     ]
    },
    {
     "data": {
      "text/plain": [
       "'single_sequence_permuted.fa'"
      ]
     },
     "execution_count": 12,
     "metadata": {},
     "output_type": "execute_result"
    }
   ],
   "source": [
    "fn = permute_seq_within_FASTA_an_amount(\"single_sequence.fa\", \"MOOT_AGAIN\", 3)\n",
    "fn"
   ]
  },
  {
   "cell_type": "markdown",
   "metadata": {},
   "source": [
    "----\n"
   ]
  }
 ],
 "metadata": {
  "kernelspec": {
   "display_name": "Python 3",
   "language": "python",
   "name": "python3"
  },
  "language_info": {
   "codemirror_mode": {
    "name": "ipython",
    "version": 3
   },
   "file_extension": ".py",
   "mimetype": "text/x-python",
   "name": "python",
   "nbconvert_exporter": "python",
   "pygments_lexer": "ipython3",
   "version": "3.7.3"
  }
 },
 "nbformat": 4,
 "nbformat_minor": 4
}

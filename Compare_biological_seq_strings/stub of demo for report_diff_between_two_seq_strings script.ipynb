{
 "cells": [
  {
   "cell_type": "markdown",
   "metadata": {},
   "source": [
    "## Stub of demo for report_diff_between_two_seq_strings script\n",
    "\n",
    "Stub for demo notebook for `report_diff_between_two_seq_strings.py` script."
   ]
  },
  {
   "cell_type": "code",
   "execution_count": 1,
   "metadata": {},
   "outputs": [],
   "source": [
    "import os\n",
    "file_needed = \"report_diff_between_two_seq_strings.py\"\n",
    "if not os.path.isfile(file_needed):\n",
    "    !curl -OL https://raw.githubusercontent.com/fomightez/sequencework/master/Compare_biological_seq_strings/{file_needed}"
   ]
  },
  {
   "cell_type": "code",
   "execution_count": null,
   "metadata": {},
   "outputs": [],
   "source": []
  },
  {
   "cell_type": "code",
   "execution_count": 2,
   "metadata": {},
   "outputs": [],
   "source": [
    "## Command line (or command line-like) use"
   ]
  },
  {
   "cell_type": "code",
   "execution_count": 3,
   "metadata": {},
   "outputs": [
    {
     "name": "stdout",
     "output_type": "stream",
     "text": [
      "1 0\n"
     ]
    },
    {
     "name": "stderr",
     "output_type": "stream",
     "text": [
      "\n",
      "\n",
      "Reporting amount of differences and difference in length of the two input sequences..."
     ]
    }
   ],
   "source": [
    "%run report_diff_between_two_seq_strings.py GAATTC GATTTC --report_len_diff"
   ]
  },
  {
   "cell_type": "code",
   "execution_count": null,
   "metadata": {},
   "outputs": [],
   "source": []
  },
  {
   "cell_type": "code",
   "execution_count": 4,
   "metadata": {},
   "outputs": [
    {
     "name": "stdout",
     "output_type": "stream",
     "text": [
      "5\n"
     ]
    },
    {
     "name": "stderr",
     "output_type": "stream",
     "text": [
      "\n",
      "\n",
      "Reporting amount of differences..."
     ]
    }
   ],
   "source": [
    "%run report_diff_between_two_seq_strings.py GAATTCA GATTTCGAGA"
   ]
  },
  {
   "cell_type": "code",
   "execution_count": 5,
   "metadata": {},
   "outputs": [
    {
     "name": "stdout",
     "output_type": "stream",
     "text": [
      "8\n"
     ]
    },
    {
     "name": "stderr",
     "output_type": "stream",
     "text": [
      "\n",
      "\n",
      "Reporting amount of differences..."
     ]
    }
   ],
   "source": [
    "%run report_diff_between_two_seq_strings.py GAAGGTTCACCCC GATTGGTCGACCCCGA"
   ]
  },
  {
   "cell_type": "code",
   "execution_count": 6,
   "metadata": {},
   "outputs": [
    {
     "name": "stdout",
     "output_type": "stream",
     "text": [
      "8 3\n"
     ]
    },
    {
     "name": "stderr",
     "output_type": "stream",
     "text": [
      "\n",
      "\n",
      "Reporting amount of differences and difference in length of the two input sequences..."
     ]
    }
   ],
   "source": [
    "%run report_diff_between_two_seq_strings.py GAAGGTTCACCCC GATTGGTCGACCCCGA --report_len_diff"
   ]
  },
  {
   "cell_type": "code",
   "execution_count": 7,
   "metadata": {},
   "outputs": [
    {
     "name": "stdout",
     "output_type": "stream",
     "text": [
      "8 3\n",
      "Alignments displaying 8 differences:\n",
      "\n",
      "-GAAGGTTCACCCC--\n",
      "-XXX|||XX|||||--\n",
      "GATTGGTCGACCCCGA\n",
      "\n",
      "GAAGGTTCACCCC---\n",
      "||XX|X||XX|||---\n",
      "GATTGGTCGACCCCGA\n",
      "\n"
     ]
    },
    {
     "name": "stderr",
     "output_type": "stream",
     "text": [
      "\n",
      "\n",
      "Reporting amount of differences and difference in length of the two input sequences...\n",
      "Reporting alignments with 8 differences..."
     ]
    }
   ],
   "source": [
    "%run report_diff_between_two_seq_strings.py GAAGGTTCACCCC GATTGGTCGACCCCGA --report_len_diff --report_alignment"
   ]
  },
  {
   "cell_type": "code",
   "execution_count": 8,
   "metadata": {},
   "outputs": [
    {
     "name": "stdout",
     "output_type": "stream",
     "text": [
      "5\n",
      "Alignment displaying 5 differences:\n",
      "\n",
      "GAATTCA---\n",
      "||X|||X---\n",
      "GATTTCGAGA\n",
      "\n"
     ]
    },
    {
     "name": "stderr",
     "output_type": "stream",
     "text": [
      "\n",
      "\n",
      "Reporting amount of differences...\n",
      "Reporting alignment with 5 differences..."
     ]
    }
   ],
   "source": [
    "%run report_diff_between_two_seq_strings.py GAATTCA GATTTCGAGA  --report_alignment"
   ]
  },
  {
   "cell_type": "markdown",
   "metadata": {},
   "source": [
    "-------\n",
    "\n",
    "-------"
   ]
  },
  {
   "cell_type": "markdown",
   "metadata": {},
   "source": [
    "## Use of main function after import\n",
    "\n",
    "Intended for use in Jupyter/IPython environments primarily."
   ]
  },
  {
   "cell_type": "code",
   "execution_count": 9,
   "metadata": {},
   "outputs": [
    {
     "data": {
      "text/plain": [
       "(1,)"
      ]
     },
     "execution_count": 9,
     "metadata": {},
     "output_type": "execute_result"
    }
   ],
   "source": [
    "from report_diff_between_two_seq_strings import report_diff_between_two_seq_strings\n",
    "diffs = report_diff_between_two_seq_strings(\"GAATTC\",\"GATTTC \")\n",
    "diffs"
   ]
  },
  {
   "cell_type": "code",
   "execution_count": 10,
   "metadata": {},
   "outputs": [
    {
     "name": "stdout",
     "output_type": "stream",
     "text": [
      "number of differences: 5\n",
      "difference in size of unaligned: 4\n"
     ]
    }
   ],
   "source": [
    "from report_diff_between_two_seq_strings import report_diff_between_two_seq_strings\n",
    "diffs = report_diff_between_two_seq_strings(\"GAATTCA\",\"GATTTCGAGA \",report_len_diff = True)\n",
    "print(\"number of differences:\",diffs[0])\n",
    "print(\"difference in size of unaligned:\",diffs[1])"
   ]
  },
  {
   "cell_type": "code",
   "execution_count": 11,
   "metadata": {},
   "outputs": [
    {
     "name": "stdout",
     "output_type": "stream",
     "text": [
      "number of differences: 8\n",
      "difference in size of unaligned: 3\n",
      "Alignments:\n",
      "-GAAGGTTCACCCC--\n",
      "-XXX|||XX|||||--\n",
      "GATTGGTCGACCCCGA\n",
      "\n",
      "GAAGGTTCACCCC---\n",
      "||XX|X||XX|||---\n",
      "GATTGGTCGACCCCGA\n",
      "\n"
     ]
    }
   ],
   "source": [
    "from report_diff_between_two_seq_strings import report_diff_between_two_seq_strings\n",
    "diffs = report_diff_between_two_seq_strings(\"GAAGGTTCACCCC\",\"GATTGGTCGACCCCGA\",report_len_diff = True, report_alignment = True)\n",
    "print(\"number of differences:\",diffs[0])\n",
    "print(\"difference in size of unaligned:\",diffs[1])\n",
    "print(\"Alignments:\")\n",
    "for x in diffs[2]:\n",
    "    print(x)"
   ]
  },
  {
   "cell_type": "code",
   "execution_count": 12,
   "metadata": {},
   "outputs": [
    {
     "name": "stdout",
     "output_type": "stream",
     "text": [
      "number of differences: 8\n",
      "Alignments:\n",
      "-GAAGGTTCACCCC--\n",
      "-XXX|||XX|||||--\n",
      "GATTGGTCGACCCCGA\n",
      "\n",
      "GAAGGTTCACCCC---\n",
      "||XX|X||XX|||---\n",
      "GATTGGTCGACCCCGA\n",
      "\n"
     ]
    }
   ],
   "source": [
    "from report_diff_between_two_seq_strings import report_diff_between_two_seq_strings\n",
    "diffs = report_diff_between_two_seq_strings(\"GAAGGTTCACCCC\",\"GATTGGTCGACCCCGA\", report_alignment = True)\n",
    "print(\"number of differences:\",diffs[0])\n",
    "print(\"Alignments:\")\n",
    "for x in diffs[1]:\n",
    "    print(x)"
   ]
  },
  {
   "cell_type": "code",
   "execution_count": null,
   "metadata": {},
   "outputs": [
    {
     "name": "stdout",
     "output_type": "stream",
     "text": [
      ".\n"
     ]
    }
   ],
   "source": [
    "import time\n",
    "\n",
    "def executeSomething():\n",
    "    #code here\n",
    "    print ('.')\n",
    "    time.sleep(480) #60 seconds times 8 minutes\n",
    "\n",
    "while True:\n",
    "    executeSomething()"
   ]
  },
  {
   "cell_type": "code",
   "execution_count": null,
   "metadata": {},
   "outputs": [],
   "source": []
  }
 ],
 "metadata": {
  "kernelspec": {
   "display_name": "Python 3",
   "language": "python",
   "name": "python3"
  },
  "language_info": {
   "codemirror_mode": {
    "name": "ipython",
    "version": 3
   },
   "file_extension": ".py",
   "mimetype": "text/x-python",
   "name": "python",
   "nbconvert_exporter": "python",
   "pygments_lexer": "ipython3",
   "version": "3.7.3"
  }
 },
 "nbformat": 4,
 "nbformat_minor": 4
}

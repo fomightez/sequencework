{
 "cells": [
  {
   "cell_type": "markdown",
   "metadata": {},
   "source": [
    "# demonstration of `report_coordinates_for_seq_within_FASTA.py` script\n",
    "\n",
    "If you'd like an active Jupyter session to run this notebook, launch one by clicking [here](https://mybinder.org/v2/gh/fomightez/clausen_ribonucleotides/master), and then upload this notebook to the session that starts up.  \n",
    "Otherwise, the static version is rendered more nicely via [here](https://nbviewer.jupyter.org/github/fomightez/sequencework/blob/master/Extract_from_FASTA/demo%20report_coordinates_for_seq_within_FASTA.ipynb).\n",
    "\n",
    "<div class=\"alert alert-block alert-warning\">\n",
    "<p>If you haven't used one of these notebooks before, they're basically web pages in which you can write, edit, and run live code. They're meant to encourage experimentation, so don't feel nervous. Just try running a few cells and see what happens!.</p>\n",
    "\n",
    "<p>\n",
    "    Some tips:\n",
    "    <ul>\n",
    "        <li>Code cells have boxes around them. When you hover over them a <i class=\"fa-step-forward fa\"></i> icon appears.</li>\n",
    "        <li>To run a code cell either click the <i class=\"fa-step-forward fa\"></i> icon, or click on the cell and then hit <b>Shift+Enter</b>. The <b>Shift+Enter</b> combo will also move you to the next cell, so it's a quick way to work through the notebook.</li>\n",
    "        <li>While a cell is running a <b>*</b> appears in the square brackets next to the cell. Once the cell has finished running the asterix will be replaced with a number.</li>\n",
    "        <li>In most cases you'll want to start from the top of notebook and work your way down running each cell in turn. Later cells might depend on the results of earlier ones.</li>\n",
    "        <li>To edit a code cell, just click on it and type stuff. Remember to run the cell once you've finished editing.</li>\n",
    "    </ul>\n",
    "</p>\n",
    "</div>\n",
    "\n",
    "You'll need the current version of the script to run this notebook, and the next cell will get that. (Remember if you want to make things more reproducible when you use the script with your own data, you'll want to edit calls such as this to fetch a specific version of the script. How to do this is touched upon in the comment below [here](https://stackoverflow.com/a/48587645/8508004)."
   ]
  },
  {
   "cell_type": "code",
   "execution_count": 1,
   "metadata": {},
   "outputs": [
    {
     "name": "stdout",
     "output_type": "stream",
     "text": [
      "  % Total    % Received % Xferd  Average Speed   Time    Time     Time  Current\n",
      "                                 Dload  Upload   Total   Spent    Left  Speed\n",
      "100 17309  100 17309    0     0  51362      0 --:--:-- --:--:-- --:--:-- 51210\n"
     ]
    }
   ],
   "source": [
    "!curl -O https://raw.githubusercontent.com/fomightez/sequencework/master/Extract_Details_or_Annotation/report_coordinates_for_seq_within_FASTA.py"
   ]
  },
  {
   "cell_type": "markdown",
   "metadata": {},
   "source": [
    "## Display Usage / Help Block"
   ]
  },
  {
   "cell_type": "code",
   "execution_count": 2,
   "metadata": {},
   "outputs": [
    {
     "name": "stdout",
     "output_type": "stream",
     "text": [
      "usage: report_coordinates_for_seq_within_FASTA.py [-h] [-rgs]\n",
      "                                                  SEQUENCE_FILE RECORD_ID\n",
      "                                                  PATTERN\n",
      "\n",
      "report_coordinates_for_seq_within_FASTA.py takes a sequence pattern string, a\n",
      "sequence file (FASTA-format), and a record id, and reports the start and end\n",
      "coordinates of that sequence within the specified FASTA record. Importantly,\n",
      "the coordinates numbering is in 'common' terms where the position numbered one\n",
      "corresponds to the first position. **** Script by Wayne Decatur (fomightez @\n",
      "github) ***\n",
      "\n",
      "positional arguments:\n",
      "  SEQUENCE_FILE         Name of sequence file to use as input. Must be FASTA\n",
      "                        format. Can be a multi-FASTA file, i.e., multiple\n",
      "                        sequences in FASTA format in one file.\n",
      "  RECORD_ID             Specific identifier of sequence entry in sequence file\n",
      "                        to search. If the provided sequence file only contains\n",
      "                        one sequence, that sequence will be searchedand what\n",
      "                        is provided for this parameter will be ignored. In\n",
      "                        other words, if the sequence file is not a multi-FASTA\n",
      "                        file, you don't need to determine the identifier and\n",
      "                        can instead just enter `blahblah` or any other\n",
      "                        nonsensical string in this spot.\n",
      "  PATTERN               Sequence or sequence pattern to use to determine the\n",
      "                        coordinates it spans. Regular expressions are accepted\n",
      "                        here; however any information about case will be\n",
      "                        ignored as the provided sequence pattern and sequence\n",
      "                        will both be converted to lower case to check for a\n",
      "                        match.\n",
      "\n",
      "optional arguments:\n",
      "  -h, --help            show this help message and exit\n",
      "  -rgs, --restrict_to_given_strand\n",
      "                        Add this flag you want to limit the search for the\n",
      "                        sequence pattern to the represented strand of the\n",
      "                        sequence file. (Might be useful if one, or both,\n",
      "                        pattern and sequence provided correspond to single-\n",
      "                        stranded RNA.**ATYPICAL**) Otherwise, if there is no\n",
      "                        match to the pattern in the provided sequence, the\n",
      "                        reverse complement of the pattern will also be\n",
      "                        searched in the sequence and matching coordinates\n",
      "                        returned.\n"
     ]
    }
   ],
   "source": [
    "%run report_coordinates_for_seq_within_FASTA.py -h"
   ]
  },
  {
   "cell_type": "markdown",
   "metadata": {},
   "source": [
    "To read more about this script beyond that and what is covered below, see [here](https://github.com/fomightez/sequencework/tree/master/Extract_Details_or_Annotation).\n",
    "\n",
    "-----\n",
    "\n",
    "## Basic use examples set #1: Using from the command line (or equivalent / similar)\n",
    "\n",
    "### Preparing for usage example"
   ]
  },
  {
   "cell_type": "code",
   "execution_count": 3,
   "metadata": {},
   "outputs": [],
   "source": [
    "#write example FASTA to file\n",
    "s = '''>evoli\n",
    "atctgatctggggcgaaatgagactgatctgatctggtctgtggcg\n",
    ">smer\n",
    "atctgaatctgagactatatgagactgatctgatctgctctgaagc\n",
    "'''\n",
    "\n",
    "!echo \"{s}\" > sequence.fa"
   ]
  },
  {
   "cell_type": "markdown",
   "metadata": {},
   "source": [
    "### Run the script"
   ]
  },
  {
   "cell_type": "code",
   "execution_count": 4,
   "metadata": {},
   "outputs": [
    {
     "name": "stdout",
     "output_type": "stream",
     "text": [
      "8\t45\n"
     ]
    }
   ],
   "source": [
    "%%bash\n",
    "python report_coordinates_for_seq_within_FASTA.py sequence.fa smer tCtgAGactatatgagactgatctgatctgctctgaag"
   ]
  },
  {
   "cell_type": "markdown",
   "metadata": {},
   "source": [
    "The 'start' and 'end' coordinates, separated by a tab character, spanned by the sequence are generated.\n",
    "\n",
    "**Note** that cell above illustrates that the comparison is insensitive to case.\n",
    "\n",
    "\n",
    "In the above cell and elsewhere in this notebook, `%%bash` cell magic is used to send this to the shell to run as if on the command line. \n",
    "\n",
    "You could simply run something like `python get_seq_following_seq_from_FASTA.py sequence.fa smer tCtgagc` if you are working on the command line directly. In fact, the terminal is available from the Jupyter dashboard (or from the JupyterLab launcher) and you can feel free to try running the command below in a terminal in this Jupyter session if you'd like.\n",
    "\n",
    "    python get_seq_following_seq_from_FASTA.py sequence.fa smer tCtgagc\n"
   ]
  },
  {
   "cell_type": "markdown",
   "metadata": {},
   "source": [
    "Another example of using the script is in the cell below. This time the stderr stream shows some feeback, highlighted in pink."
   ]
  },
  {
   "cell_type": "code",
   "execution_count": 5,
   "metadata": {},
   "outputs": [
    {
     "name": "stdout",
     "output_type": "stream",
     "text": [
      "2\t4\n"
     ]
    },
    {
     "name": "stderr",
     "output_type": "stream",
     "text": [
      "5 matches to the sequence found in the specified sequence. The coordinates\n",
      "of the match encountered first have been returned."
     ]
    }
   ],
   "source": [
    "%%bash\n",
    "python report_coordinates_for_seq_within_FASTA.py sequence.fa smer tct"
   ]
  },
  {
   "cell_type": "markdown",
   "metadata": {},
   "source": [
    "You may wish to redirect the output sequence text to a file. The next cell demonstrates that, and the one after it shows it worked by displaying the generated file."
   ]
  },
  {
   "cell_type": "code",
   "execution_count": 6,
   "metadata": {},
   "outputs": [],
   "source": [
    "%%bash\n",
    "python report_coordinates_for_seq_within_FASTA.py sequence.fa smer tCtgAGactatatgagactgatctgatct > redirect_test.tsv"
   ]
  },
  {
   "cell_type": "code",
   "execution_count": 7,
   "metadata": {},
   "outputs": [
    {
     "name": "stdout",
     "output_type": "stream",
     "text": [
      "8\t36\n"
     ]
    }
   ],
   "source": [
    "!head redirect_test.tsv"
   ]
  },
  {
   "cell_type": "markdown",
   "metadata": {},
   "source": [
    "(The cell above uses another Jupyter notebook/ IPython trick to send a command to the command line. Namely that anything on a line after an exclamation point `!` will be executed on the system command line. However, using that style I saw no advanced display formatting of the stderr when I tried using the exclamation point, e.g., `!python report_coordinates_for_seq_within_FASTA.py sequence.fa smer tct` vs. using the `%%bash` cell magic. Hence, I used `%%bash` in the demo when calling the script.)\n",
    "\n",
    "Note that the redirection operator was used just above in a way that only sent the stdout stream to the file. You can adapt that further as you see fit; more about redirect options can be found [here](https://www.brianstorti.com/understanding-shell-script-idiom-redirect/).\n",
    "\n"
   ]
  },
  {
   "cell_type": "markdown",
   "metadata": {},
   "source": [
    "*Remember you can dispense with providing an actual record id if there is only one record.*"
   ]
  },
  {
   "cell_type": "code",
   "execution_count": 8,
   "metadata": {},
   "outputs": [],
   "source": [
    "#write example FASTA-formatted with one sequence to file\n",
    "s = '''>evoli\n",
    "atctgatctggggcgaaatgagactgatctgatctggtctgtggcg\n",
    "'''\n",
    "\n",
    "!echo \"{s}\" > single_sequence.fa"
   ]
  },
  {
   "cell_type": "markdown",
   "metadata": {},
   "source": [
    "You still have to provide *something* for record identifier, but it can be any string. In the example, below `moot` is used. Completely irrelevant but the 'placeholder' makes the command have all the parts needed."
   ]
  },
  {
   "cell_type": "code",
   "execution_count": 9,
   "metadata": {},
   "outputs": [
    {
     "name": "stdout",
     "output_type": "stream",
     "text": [
      "2\t12\n"
     ]
    },
    {
     "name": "stderr",
     "output_type": "stream",
     "text": [
      "Single sequence with id of 'evoli' provided in the sequence file.\n",
      "It will be used to search for the provided sequence pattern\n",
      "and provide the coordinates spanned.\n",
      "\n"
     ]
    }
   ],
   "source": [
    "%%bash\n",
    "python report_coordinates_for_seq_within_FASTA.py single_sequence.fa moot tctgaTCTGGG"
   ]
  },
  {
   "cell_type": "markdown",
   "metadata": {},
   "source": [
    "If you are used to using Jupyter notebooks, you can use `%run` instead of `python get_seq_following_seq_from_FASTA.py sequence.fa smer tct 7` to get the same result."
   ]
  },
  {
   "cell_type": "code",
   "execution_count": 10,
   "metadata": {},
   "outputs": [
    {
     "name": "stdout",
     "output_type": "stream",
     "text": [
      "8\t15\n"
     ]
    }
   ],
   "source": [
    "%run report_coordinates_for_seq_within_FASTA.py sequence.fa smer tctgaGAC"
   ]
  },
  {
   "cell_type": "markdown",
   "metadata": {},
   "source": [
    "However, one cannot simply add use of the shell redirection operator, `>`, to commands using `%%run`. This is because in the Jupyter notebook environment `%run` is not compatible with the redirect operator because it directs things to IPython and not the command line.\n",
    "\n",
    "To do the equivalent, you can add in use of the %%capture cell magic to make the output a python object which you can then direct Python to save the object to a file. The idea being that having the output as a Python object in the notebook namespace gives you more options out-of-the-gate then the ouput immediately going to being stored in a file. The following cells that end this section are meant to illustrate this."
   ]
  },
  {
   "cell_type": "code",
   "execution_count": 11,
   "metadata": {},
   "outputs": [],
   "source": [
    "%%capture cell_output\n",
    "pattern = 'tctga'\n",
    "%run report_coordinates_for_seq_within_FASTA.py sequence.fa smer {pattern}"
   ]
  },
  {
   "cell_type": "code",
   "execution_count": 12,
   "metadata": {},
   "outputs": [
    {
     "data": {
      "text/plain": [
       "'2\\t6\\n'"
      ]
     },
     "execution_count": 12,
     "metadata": {},
     "output_type": "execute_result"
    }
   ],
   "source": [
    "cell_output.stdout"
   ]
  },
  {
   "cell_type": "code",
   "execution_count": 13,
   "metadata": {},
   "outputs": [
    {
     "data": {
      "text/plain": [
       "'4 matches to the sequence found in the specified sequence. The coordinates\\nof the match encountered first have been returned.'"
      ]
     },
     "execution_count": 13,
     "metadata": {},
     "output_type": "execute_result"
    }
   ],
   "source": [
    "cell_output.stderr"
   ]
  },
  {
   "cell_type": "markdown",
   "metadata": {},
   "source": [
    "Note that the `t` seen in the output from `cell_output.stdout` represents tab-spacing."
   ]
  },
  {
   "cell_type": "code",
   "execution_count": 14,
   "metadata": {},
   "outputs": [],
   "source": [
    "curious_coordinate = 7\n",
    "if str(curious_coordinate) in cell_output.stdout:\n",
    "    print (\"'{}' is among the coordinates.\".format(curious_coordinate))\n",
    "    if str(curious_coordinate) == cell_output.stdout.split()[1]:\n",
    "        pos = \"end\"\n",
    "    else:\n",
    "        pos = \"start\"\n",
    "    print (\"It is at the '{}'.\".format(pos))"
   ]
  },
  {
   "cell_type": "code",
   "execution_count": 15,
   "metadata": {},
   "outputs": [
    {
     "name": "stdout",
     "output_type": "stream",
     "text": [
      "Writing 'cell_output.stdout' (str) to file 'py_out.tsv'.\n"
     ]
    }
   ],
   "source": [
    "#save to a file\n",
    "%store cell_output.stdout > py_out.tsv"
   ]
  },
  {
   "cell_type": "code",
   "execution_count": 16,
   "metadata": {},
   "outputs": [
    {
     "name": "stdout",
     "output_type": "stream",
     "text": [
      "2\t6\n"
     ]
    }
   ],
   "source": [
    "# demonstrate the file saving worked\n",
    "!head py_out.tsv"
   ]
  },
  {
   "cell_type": "markdown",
   "metadata": {},
   "source": [
    "------\n",
    "\n",
    "## Basic use example set #2: Use the main function via import\n",
    "\n",
    "Very useful for when using this in a Jupyter notebook to build into a pipeline or workflow."
   ]
  },
  {
   "cell_type": "markdown",
   "metadata": {},
   "source": [
    "Prepare first by importing the main function from the script into the notbeook environment."
   ]
  },
  {
   "cell_type": "code",
   "execution_count": 17,
   "metadata": {},
   "outputs": [],
   "source": [
    "from report_coordinates_for_seq_within_FASTA import report_coordinates_for_seq_within_FASTA"
   ]
  },
  {
   "cell_type": "markdown",
   "metadata": {},
   "source": [
    "(That call will look redundant; however, it actually means `from the file report_coordinates_for_seq_within_FASTA.py  import the report_coordinates_for_seq_within_FASTA() function`.)\n",
    "\n",
    "Then call that function and provide the needed arguments in the call. The needed arguments are the `sequence file`, `record id` of the specific sequence to search for the pattern within (can be gibberish if there is only one sequence provided inside sequence file), and `sequence pattern to search for`.\n",
    "\n",
    "The function will return the resulting coordinates as a string, and so the function call should be assigned to a variable in order to handle the output of the function subsequently as desired."
   ]
  },
  {
   "cell_type": "code",
   "execution_count": 18,
   "metadata": {},
   "outputs": [],
   "source": [
    "coordinates = report_coordinates_for_seq_within_FASTA(\"sequence.fa\", \"evoli\", \"GATCTGGGGCGA\")"
   ]
  },
  {
   "cell_type": "code",
   "execution_count": 19,
   "metadata": {},
   "outputs": [
    {
     "name": "stdout",
     "output_type": "stream",
     "text": [
      "5\t16\n"
     ]
    }
   ],
   "source": [
    "print (coordinates)"
   ]
  },
  {
   "cell_type": "markdown",
   "metadata": {},
   "source": [
    "*Remember you can dispense with providing an actual, real record id if there is only one record.*\n",
    "\n",
    "You just need to supply *something* in that spot as a 'placeholder'."
   ]
  },
  {
   "cell_type": "code",
   "execution_count": 20,
   "metadata": {},
   "outputs": [
    {
     "name": "stderr",
     "output_type": "stream",
     "text": [
      "Single sequence with id of 'evoli' provided in the sequence file.\n",
      "It will be used to search for the provided sequence pattern\n",
      "and provide the coordinates spanned.\n",
      "\n"
     ]
    },
    {
     "data": {
      "text/plain": [
       "'5\\t16'"
      ]
     },
     "execution_count": 20,
     "metadata": {},
     "output_type": "execute_result"
    }
   ],
   "source": [
    "coordinates = report_coordinates_for_seq_within_FASTA(\"single_sequence.fa\", \"MOOT_AGAIN\", \"GATCTGGGGCGA\")\n",
    "coordinates"
   ]
  },
  {
   "cell_type": "markdown",
   "metadata": {},
   "source": [
    "----\n",
    "\n",
    "## More advanced use examples #1: Parse out the start and end\n",
    "\n",
    "To keep things simple, this script only returns a text string with the 'start' and 'end' coordinates. The specific information can be parsed out if you like. This section illustrates that, building on 'Basic use example set #2: Use the main function via import' from above.\n",
    "\n",
    "It takes advantage of two things: \n",
    "1. In the returned string, a `tab` is used as the separator between the two items. So we can get a list of the items by splitting on that `tab`.\n",
    "2. Python can unpack a list (see [here](https://stackoverflow.com/questions/34308337/unpack-list-to-variables) for more on that."
   ]
  },
  {
   "cell_type": "code",
   "execution_count": 21,
   "metadata": {},
   "outputs": [
    {
     "name": "stdout",
     "output_type": "stream",
     "text": [
      "start: 5\n",
      "end: 16\n"
     ]
    },
    {
     "name": "stderr",
     "output_type": "stream",
     "text": [
      "Single sequence with id of 'evoli' provided in the sequence file.\n",
      "It will be used to search for the provided sequence pattern\n",
      "and provide the coordinates spanned.\n",
      "\n"
     ]
    }
   ],
   "source": [
    "from report_coordinates_for_seq_within_FASTA import report_coordinates_for_seq_within_FASTA\n",
    "coordinates = report_coordinates_for_seq_within_FASTA(\"single_sequence.fa\", \"MOOT_AGAIN\", \"GATCTGGGGCGA\")\n",
    "start,end = coordinates.split(\"\\t\")\n",
    "print(\"start:\",start)\n",
    "print(\"end:\", end)"
   ]
  },
  {
   "cell_type": "markdown",
   "metadata": {},
   "source": [
    "----\n",
    "\n",
    "## More advanced use examples #2: Use with regular expressions\n",
    "\n",
    "Providing sequence patterns to search for can accomodate regular expression search terms (see [Appendix 2 of Haddock and Dunn's Practical Computing for Biologists](http://practicalcomputing.org/files/PCfB_Appendices.pdf)). However, it can be tricky to input some of the symbols and special characters that regular expression search terms tend to use and get them interpreted exactly as expected. Especially in light of the many ways one can call this script or the associated function in a Jupyter notebook.\n",
    "\n",
    "I illustrate some of the things I found to work here."
   ]
  },
  {
   "cell_type": "code",
   "execution_count": 22,
   "metadata": {},
   "outputs": [
    {
     "name": "stdout",
     "output_type": "stream",
     "text": [
      "10\t13\n"
     ]
    },
    {
     "name": "stderr",
     "output_type": "stream",
     "text": [
      "3 matches to the sequence found in the specified sequence. The coordinates\n",
      "of the match encountered first have been returned."
     ]
    }
   ],
   "source": [
    "%run report_coordinates_for_seq_within_FASTA.py sequence.fa evoli g{{2,}}"
   ]
  },
  {
   "cell_type": "markdown",
   "metadata": {},
   "source": [
    "That regular expression search term is equivalent to `g{2,}` and searches for two or more matches to `g` in a row (or `G` in row because I make comparison case insensitive beyond input expression). Note that the brackets have to be doubled up to get read in from IPython to ultimately Python as single brackets. (Single brackets got converted to parantheses for some reason.) I worked this out by testing input from command by printing what I had right before search and luckily tried what I had learned from [here](https://stackoverflow.com/a/5466478/8508004) for dealing with brackets and `.format()`.\n",
    "\n"
   ]
  },
  {
   "cell_type": "markdown",
   "metadata": {},
   "source": [
    "#### When using the function call, it seems no special escaping is needed.\n",
    "\n",
    "**This is probably the best route to use regular expressions.**"
   ]
  },
  {
   "cell_type": "code",
   "execution_count": 23,
   "metadata": {},
   "outputs": [
    {
     "data": {
      "text/plain": [
       "'10\\t13'"
      ]
     },
     "execution_count": 23,
     "metadata": {},
     "output_type": "execute_result"
    }
   ],
   "source": [
    "coordinates = report_coordinates_for_seq_within_FASTA(\"sequence.fa\", \"evoli\", \"g{3,}\")\n",
    "coordinates"
   ]
  },
  {
   "cell_type": "code",
   "execution_count": 24,
   "metadata": {},
   "outputs": [
    {
     "name": "stderr",
     "output_type": "stream",
     "text": [
      "5 matches to the sequence found in the specified sequence. The coordinates\n",
      "of the match encountered first have been returned."
     ]
    },
    {
     "data": {
      "text/plain": [
       "'2\\t5'"
      ]
     },
     "execution_count": 24,
     "metadata": {},
     "output_type": "execute_result"
    }
   ],
   "source": [
    "coordinates = report_coordinates_for_seq_within_FASTA(\"sequence.fa\", \"evoli\", \"tctgg*\")\n",
    "coordinates"
   ]
  },
  {
   "cell_type": "code",
   "execution_count": 25,
   "metadata": {},
   "outputs": [
    {
     "name": "stderr",
     "output_type": "stream",
     "text": [
      "2 matches to the sequence found in the specified sequence. The coordinates\n",
      "of the match encountered first have been returned."
     ]
    },
    {
     "data": {
      "text/plain": [
       "'7\\t13'"
      ]
     },
     "execution_count": 25,
     "metadata": {},
     "output_type": "execute_result"
    }
   ],
   "source": [
    "coordinates = report_coordinates_for_seq_within_FASTA(\"sequence.fa\", \"evoli\", \"tctggg*\")\n",
    "coordinates"
   ]
  },
  {
   "cell_type": "code",
   "execution_count": 26,
   "metadata": {},
   "outputs": [
    {
     "data": {
      "text/plain": [
       "'21\\t34'"
      ]
     },
     "execution_count": 26,
     "metadata": {},
     "output_type": "execute_result"
    }
   ],
   "source": [
    "#write example with blocks of unknown nucleotides in FASTA to file\n",
    "s = '''>smar\n",
    "atctgatNNNNNNNNNNNNNNNNNNNNNNNtgatctggtctgtggcg\n",
    ">colc\n",
    "atctgaatctgagactatatNNNNNNNNNNNNNNtctgctctgaagc\n",
    "'''\n",
    "\n",
    "!echo \"{s}\" > sequencewn.fa\n",
    "\n",
    "coors = report_coordinates_for_seq_within_FASTA(\"sequencewn.fa\", \"colc\", \"N{5,}\")\n",
    "coors"
   ]
  },
  {
   "cell_type": "markdown",
   "metadata": {},
   "source": [
    "*Despite that method there being the most direct and easiest way to use them, I can imagine it won't cover all cases, and so I am going to detail my additional findings in this section.*"
   ]
  },
  {
   "cell_type": "markdown",
   "metadata": {},
   "source": [
    "Interestingly, a different approach to escaping the brackets is necessary when using the `%%bash` cell magic."
   ]
  },
  {
   "cell_type": "code",
   "execution_count": 27,
   "metadata": {},
   "outputs": [
    {
     "name": "stdout",
     "output_type": "stream",
     "text": [
      "6\t7\n"
     ]
    },
    {
     "name": "stderr",
     "output_type": "stream",
     "text": [
      "2 matches to the sequence found in the specified sequence. The coordinates\n",
      "of the match encountered first have been returned."
     ]
    }
   ],
   "source": [
    "%%bash\n",
    "python report_coordinates_for_seq_within_FASTA.py sequence.fa smer a\\{2,\\}"
   ]
  },
  {
   "cell_type": "markdown",
   "metadata": {},
   "source": [
    "Yet, if you add in quotes you can get away without escaping the brackets."
   ]
  },
  {
   "cell_type": "code",
   "execution_count": 28,
   "metadata": {},
   "outputs": [
    {
     "name": "stdout",
     "output_type": "stream",
     "text": [
      "6\t7\n"
     ]
    },
    {
     "name": "stderr",
     "output_type": "stream",
     "text": [
      "2 matches to the sequence found in the specified sequence. The coordinates\n",
      "of the match encountered first have been returned."
     ]
    }
   ],
   "source": [
    "%%bash\n",
    "python report_coordinates_for_seq_within_FASTA.py sequence.fa smer \"a{2,}\""
   ]
  },
  {
   "cell_type": "markdown",
   "metadata": {},
   "source": [
    "The cell below shows it works when using the exclamation mark way to send commands to shell, too."
   ]
  },
  {
   "cell_type": "code",
   "execution_count": 29,
   "metadata": {},
   "outputs": [
    {
     "name": "stdout",
     "output_type": "stream",
     "text": [
      "10\t13\n"
     ]
    }
   ],
   "source": [
    "!python report_coordinates_for_seq_within_FASTA.py sequence.fa evoli g{{3,}}"
   ]
  },
  {
   "cell_type": "code",
   "execution_count": 30,
   "metadata": {},
   "outputs": [
    {
     "data": {
      "text/plain": [
       "['10\\t13']"
      ]
     },
     "execution_count": 30,
     "metadata": {},
     "output_type": "execute_result"
    }
   ],
   "source": [
    "a = !python report_coordinates_for_seq_within_FASTA.py sequence.fa evoli g\\{3,\\}\n",
    "a"
   ]
  },
  {
   "cell_type": "markdown",
   "metadata": {},
   "source": [
    "Except double-brackets method **fails** if want to assign output to a variable using exclamation point approach."
   ]
  },
  {
   "cell_type": "code",
   "execution_count": 31,
   "metadata": {},
   "outputs": [
    {
     "data": {
      "text/plain": [
       "['usage: report_coordinates_for_seq_within_FASTA.py [-h] [-rgs]',\n",
       " '                                                  SEQUENCE_FILE RECORD_ID',\n",
       " '                                                  PATTERN',\n",
       " 'report_coordinates_for_seq_within_FASTA.py: error: unrecognized arguments: g']"
      ]
     },
     "execution_count": 31,
     "metadata": {},
     "output_type": "execute_result"
    }
   ],
   "source": [
    "a = !python report_coordinates_for_seq_within_FASTA.py sequence.fa evoli g{{3,}}\n",
    "a"
   ]
  },
  {
   "cell_type": "markdown",
   "metadata": {},
   "source": [
    "In other words, `a = !python get_seq_following_seq_from_FASTA.py sequence.fa evoli g{{3,}}` failed to give expected result even though it assigned something to variable."
   ]
  },
  {
   "cell_type": "markdown",
   "metadata": {},
   "source": [
    "Adding quotes around pattern fixes it."
   ]
  },
  {
   "cell_type": "code",
   "execution_count": 32,
   "metadata": {},
   "outputs": [
    {
     "data": {
      "text/plain": [
       "['10\\t13']"
      ]
     },
     "execution_count": 32,
     "metadata": {},
     "output_type": "execute_result"
    }
   ],
   "source": [
    "a = !python report_coordinates_for_seq_within_FASTA.py sequence.fa evoli \"g{{3,}}\"\n",
    "a"
   ]
  },
  {
   "cell_type": "markdown",
   "metadata": {},
   "source": [
    "Since `%run` approach works though, I can use that to assign to variables within a Jupyter notebook if needed."
   ]
  },
  {
   "cell_type": "code",
   "execution_count": 33,
   "metadata": {},
   "outputs": [],
   "source": [
    "%%capture cell_output\n",
    "%run report_coordinates_for_seq_within_FASTA.py sequence.fa evoli g{{3,}}"
   ]
  },
  {
   "cell_type": "code",
   "execution_count": 34,
   "metadata": {},
   "outputs": [
    {
     "data": {
      "text/plain": [
       "'10\\t13\\n'"
      ]
     },
     "execution_count": 34,
     "metadata": {},
     "output_type": "execute_result"
    }
   ],
   "source": [
    "cell_output.stdout"
   ]
  },
  {
   "cell_type": "markdown",
   "metadata": {},
   "source": [
    "As below shows, other complex regular expression search terms work if quotes are used. In fact, it seems one above works both with and without quotes around the pattern."
   ]
  },
  {
   "cell_type": "code",
   "execution_count": 35,
   "metadata": {},
   "outputs": [
    {
     "name": "stdout",
     "output_type": "stream",
     "text": [
      "1\t4\n"
     ]
    },
    {
     "name": "stderr",
     "output_type": "stream",
     "text": [
      "11 matches to the sequence found in the specified sequence. The coordinates\n",
      "of the match encountered first have been returned."
     ]
    }
   ],
   "source": [
    "%run report_coordinates_for_seq_within_FASTA.py sequence.fa evoli \"....\""
   ]
  },
  {
   "cell_type": "code",
   "execution_count": 36,
   "metadata": {},
   "outputs": [
    {
     "name": "stdout",
     "output_type": "stream",
     "text": [
      "10\t13\n"
     ]
    }
   ],
   "source": [
    "%run report_coordinates_for_seq_within_FASTA.py sequence.fa evoli \"g{{3,}}\""
   ]
  },
  {
   "cell_type": "markdown",
   "metadata": {},
   "source": [
    "That last one was used at the start of this section without quotes."
   ]
  },
  {
   "cell_type": "markdown",
   "metadata": {},
   "source": [
    "Use of an asterisk in the regular expression search term with the `%run` approach seems to be allowed if handled like in the `%%bash` approach."
   ]
  },
  {
   "cell_type": "code",
   "execution_count": 37,
   "metadata": {},
   "outputs": [
    {
     "name": "stdout",
     "output_type": "stream",
     "text": [
      "7\t13\n"
     ]
    },
    {
     "name": "stderr",
     "output_type": "stream",
     "text": [
      "2 matches to the sequence found in the specified sequence. The coordinates\n",
      "of the match encountered first have been returned."
     ]
    }
   ],
   "source": [
    "%run report_coordinates_for_seq_within_FASTA.py sequence.fa evoli tctggg\\*"
   ]
  },
  {
   "cell_type": "code",
   "execution_count": 38,
   "metadata": {},
   "outputs": [
    {
     "name": "stdout",
     "output_type": "stream",
     "text": [
      "7\t13\n"
     ]
    },
    {
     "name": "stderr",
     "output_type": "stream",
     "text": [
      "2 matches to the sequence found in the specified sequence. The coordinates\n",
      "of the match encountered first have been returned."
     ]
    }
   ],
   "source": [
    "%%bash\n",
    "python report_coordinates_for_seq_within_FASTA.py sequence.fa evoli tctggg\\*"
   ]
  },
  {
   "cell_type": "markdown",
   "metadata": {},
   "source": [
    "----\n",
    "\n",
    "## More advanced use examples #3: Dealing with gaps\n",
    "\n",
    "The default behaviour of the script is to remove gaps represented by dashes from any sequence pattern provided. The idea is that many use cases will involve searhcing for sequence patterns that have gaps because the sequence text was copied from a sequence alignment, and it seems like a waste of processing to have the user clean the sequences ahead of time. "
   ]
  },
  {
   "cell_type": "code",
   "execution_count": 39,
   "metadata": {},
   "outputs": [
    {
     "name": "stdout",
     "output_type": "stream",
     "text": [
      "5\t16\n"
     ]
    }
   ],
   "source": [
    "%run report_coordinates_for_seq_within_FASTA.py sequence.fa evoli GATCTGGG------GCGA"
   ]
  },
  {
   "cell_type": "code",
   "execution_count": 40,
   "metadata": {},
   "outputs": [
    {
     "name": "stdout",
     "output_type": "stream",
     "text": [
      "5\t16\n"
     ]
    }
   ],
   "source": [
    "%run report_coordinates_for_seq_within_FASTA.py sequence.fa evoli \"GATCTGGG------GCGA\""
   ]
  },
  {
   "cell_type": "code",
   "execution_count": 41,
   "metadata": {},
   "outputs": [
    {
     "data": {
      "text/plain": [
       "'5\\t16'"
      ]
     },
     "execution_count": 41,
     "metadata": {},
     "output_type": "execute_result"
    }
   ],
   "source": [
    "coordinates = report_coordinates_for_seq_within_FASTA(\"sequence.fa\", \"evoli\", \"GATCTGGG------------------------------GCGA\")\n",
    "coordinates"
   ]
  },
  {
   "cell_type": "code",
   "execution_count": 42,
   "metadata": {},
   "outputs": [
    {
     "name": "stderr",
     "output_type": "stream",
     "text": [
      "usage: report_coordinates_for_seq_within_FASTA.py [-h] [-rgs]\n",
      "                                                  SEQUENCE_FILE RECORD_ID\n",
      "                                                  PATTERN\n",
      "report_coordinates_for_seq_within_FASTA.py: error: the following arguments are required: PATTERN\n"
     ]
    },
    {
     "ename": "SystemExit",
     "evalue": "2",
     "output_type": "error",
     "traceback": [
      "An exception has occurred, use %tb to see the full traceback.\n",
      "\u001b[0;31mSystemExit\u001b[0m\u001b[0;31m:\u001b[0m 2\n"
     ]
    }
   ],
   "source": [
    "%run report_coordinates_for_seq_within_FASTA.py sequence.fa evoli \"---GCGA\""
   ]
  },
  {
   "cell_type": "code",
   "execution_count": 43,
   "metadata": {},
   "outputs": [
    {
     "name": "stdout",
     "output_type": "stream",
     "text": [
      "12\t16\n"
     ]
    }
   ],
   "source": [
    "%run report_coordinates_for_seq_within_FASTA.py sequence.fa evoli \"G---GCGA\""
   ]
  },
  {
   "cell_type": "code",
   "execution_count": 44,
   "metadata": {},
   "outputs": [
    {
     "data": {
      "text/plain": [
       "'13\\t16'"
      ]
     },
     "execution_count": 44,
     "metadata": {},
     "output_type": "execute_result"
    }
   ],
   "source": [
    "coordinates = report_coordinates_for_seq_within_FASTA(\"sequence.fa\", \"evoli\", \"----GCGA\")\n",
    "coordinates"
   ]
  },
  {
   "cell_type": "markdown",
   "metadata": {},
   "source": [
    "But note, the next one fails despite that cell just above working. It seems when I include `%tb` to get the full traceback to be something related to how that `\"----GCGA\"` is being viewed by argparse."
   ]
  },
  {
   "cell_type": "code",
   "execution_count": 45,
   "metadata": {},
   "outputs": [
    {
     "name": "stderr",
     "output_type": "stream",
     "text": [
      "usage: report_coordinates_for_seq_within_FASTA.py [-h] [-rgs]\n",
      "                                                  SEQUENCE_FILE RECORD_ID\n",
      "                                                  PATTERN\n",
      "report_coordinates_for_seq_within_FASTA.py: error: the following arguments are required: PATTERN\n"
     ]
    },
    {
     "ename": "SystemExit",
     "evalue": "2",
     "output_type": "error",
     "traceback": [
      "An exception has occurred, use %tb to see the full traceback.\n",
      "\u001b[0;31mSystemExit\u001b[0m\u001b[0;31m:\u001b[0m 2\n"
     ]
    }
   ],
   "source": [
    "%run report_coordinates_for_seq_within_FASTA.py sequence.fa evoli \"----GCGA\""
   ]
  },
  {
   "cell_type": "markdown",
   "metadata": {},
   "source": [
    "Even fails when using command line using `%%bash` magic."
   ]
  },
  {
   "cell_type": "code",
   "execution_count": 46,
   "metadata": {},
   "outputs": [
    {
     "name": "stderr",
     "output_type": "stream",
     "text": [
      "usage: report_coordinates_for_seq_within_FASTA.py [-h] [-rgs]\n",
      "                                                  SEQUENCE_FILE RECORD_ID\n",
      "                                                  PATTERN\n",
      "report_coordinates_for_seq_within_FASTA.py: error: the following arguments are required: PATTERN\n"
     ]
    },
    {
     "ename": "CalledProcessError",
     "evalue": "Command 'b'python report_coordinates_for_seq_within_FASTA.py sequence.fa evoli \"----GCGA\"\\n'' returned non-zero exit status 2.",
     "output_type": "error",
     "traceback": [
      "\u001b[0;31m---------------------------------------------------------------------------\u001b[0m",
      "\u001b[0;31mCalledProcessError\u001b[0m                        Traceback (most recent call last)",
      "\u001b[0;32m<ipython-input-46-cc6f0d46cea3>\u001b[0m in \u001b[0;36m<module>\u001b[0;34m\u001b[0m\n\u001b[0;32m----> 1\u001b[0;31m \u001b[0mget_ipython\u001b[0m\u001b[0;34m(\u001b[0m\u001b[0;34m)\u001b[0m\u001b[0;34m.\u001b[0m\u001b[0mrun_cell_magic\u001b[0m\u001b[0;34m(\u001b[0m\u001b[0;34m'bash'\u001b[0m\u001b[0;34m,\u001b[0m \u001b[0;34m''\u001b[0m\u001b[0;34m,\u001b[0m \u001b[0;34m'python report_coordinates_for_seq_within_FASTA.py sequence.fa evoli \"----GCGA\"\\n'\u001b[0m\u001b[0;34m)\u001b[0m\u001b[0;34m\u001b[0m\u001b[0;34m\u001b[0m\u001b[0m\n\u001b[0m",
      "\u001b[0;32m/srv/conda/envs/notebook/lib/python3.7/site-packages/IPython/core/interactiveshell.py\u001b[0m in \u001b[0;36mrun_cell_magic\u001b[0;34m(self, magic_name, line, cell)\u001b[0m\n\u001b[1;32m   2357\u001b[0m             \u001b[0;32mwith\u001b[0m \u001b[0mself\u001b[0m\u001b[0;34m.\u001b[0m\u001b[0mbuiltin_trap\u001b[0m\u001b[0;34m:\u001b[0m\u001b[0;34m\u001b[0m\u001b[0;34m\u001b[0m\u001b[0m\n\u001b[1;32m   2358\u001b[0m                 \u001b[0margs\u001b[0m \u001b[0;34m=\u001b[0m \u001b[0;34m(\u001b[0m\u001b[0mmagic_arg_s\u001b[0m\u001b[0;34m,\u001b[0m \u001b[0mcell\u001b[0m\u001b[0;34m)\u001b[0m\u001b[0;34m\u001b[0m\u001b[0;34m\u001b[0m\u001b[0m\n\u001b[0;32m-> 2359\u001b[0;31m                 \u001b[0mresult\u001b[0m \u001b[0;34m=\u001b[0m \u001b[0mfn\u001b[0m\u001b[0;34m(\u001b[0m\u001b[0;34m*\u001b[0m\u001b[0margs\u001b[0m\u001b[0;34m,\u001b[0m \u001b[0;34m**\u001b[0m\u001b[0mkwargs\u001b[0m\u001b[0;34m)\u001b[0m\u001b[0;34m\u001b[0m\u001b[0;34m\u001b[0m\u001b[0m\n\u001b[0m\u001b[1;32m   2360\u001b[0m             \u001b[0;32mreturn\u001b[0m \u001b[0mresult\u001b[0m\u001b[0;34m\u001b[0m\u001b[0;34m\u001b[0m\u001b[0m\n\u001b[1;32m   2361\u001b[0m \u001b[0;34m\u001b[0m\u001b[0m\n",
      "\u001b[0;32m/srv/conda/envs/notebook/lib/python3.7/site-packages/IPython/core/magics/script.py\u001b[0m in \u001b[0;36mnamed_script_magic\u001b[0;34m(line, cell)\u001b[0m\n\u001b[1;32m    140\u001b[0m             \u001b[0;32melse\u001b[0m\u001b[0;34m:\u001b[0m\u001b[0;34m\u001b[0m\u001b[0;34m\u001b[0m\u001b[0m\n\u001b[1;32m    141\u001b[0m                 \u001b[0mline\u001b[0m \u001b[0;34m=\u001b[0m \u001b[0mscript\u001b[0m\u001b[0;34m\u001b[0m\u001b[0;34m\u001b[0m\u001b[0m\n\u001b[0;32m--> 142\u001b[0;31m             \u001b[0;32mreturn\u001b[0m \u001b[0mself\u001b[0m\u001b[0;34m.\u001b[0m\u001b[0mshebang\u001b[0m\u001b[0;34m(\u001b[0m\u001b[0mline\u001b[0m\u001b[0;34m,\u001b[0m \u001b[0mcell\u001b[0m\u001b[0;34m)\u001b[0m\u001b[0;34m\u001b[0m\u001b[0;34m\u001b[0m\u001b[0m\n\u001b[0m\u001b[1;32m    143\u001b[0m \u001b[0;34m\u001b[0m\u001b[0m\n\u001b[1;32m    144\u001b[0m         \u001b[0;31m# write a basic docstring:\u001b[0m\u001b[0;34m\u001b[0m\u001b[0;34m\u001b[0m\u001b[0;34m\u001b[0m\u001b[0m\n",
      "\u001b[0;32m</srv/conda/envs/notebook/lib/python3.7/site-packages/decorator.py:decorator-gen-110>\u001b[0m in \u001b[0;36mshebang\u001b[0;34m(self, line, cell)\u001b[0m\n",
      "\u001b[0;32m/srv/conda/envs/notebook/lib/python3.7/site-packages/IPython/core/magic.py\u001b[0m in \u001b[0;36m<lambda>\u001b[0;34m(f, *a, **k)\u001b[0m\n\u001b[1;32m    185\u001b[0m     \u001b[0;31m# but it's overkill for just that one bit of state.\u001b[0m\u001b[0;34m\u001b[0m\u001b[0;34m\u001b[0m\u001b[0;34m\u001b[0m\u001b[0m\n\u001b[1;32m    186\u001b[0m     \u001b[0;32mdef\u001b[0m \u001b[0mmagic_deco\u001b[0m\u001b[0;34m(\u001b[0m\u001b[0marg\u001b[0m\u001b[0;34m)\u001b[0m\u001b[0;34m:\u001b[0m\u001b[0;34m\u001b[0m\u001b[0;34m\u001b[0m\u001b[0m\n\u001b[0;32m--> 187\u001b[0;31m         \u001b[0mcall\u001b[0m \u001b[0;34m=\u001b[0m \u001b[0;32mlambda\u001b[0m \u001b[0mf\u001b[0m\u001b[0;34m,\u001b[0m \u001b[0;34m*\u001b[0m\u001b[0ma\u001b[0m\u001b[0;34m,\u001b[0m \u001b[0;34m**\u001b[0m\u001b[0mk\u001b[0m\u001b[0;34m:\u001b[0m \u001b[0mf\u001b[0m\u001b[0;34m(\u001b[0m\u001b[0;34m*\u001b[0m\u001b[0ma\u001b[0m\u001b[0;34m,\u001b[0m \u001b[0;34m**\u001b[0m\u001b[0mk\u001b[0m\u001b[0;34m)\u001b[0m\u001b[0;34m\u001b[0m\u001b[0;34m\u001b[0m\u001b[0m\n\u001b[0m\u001b[1;32m    188\u001b[0m \u001b[0;34m\u001b[0m\u001b[0m\n\u001b[1;32m    189\u001b[0m         \u001b[0;32mif\u001b[0m \u001b[0mcallable\u001b[0m\u001b[0;34m(\u001b[0m\u001b[0marg\u001b[0m\u001b[0;34m)\u001b[0m\u001b[0;34m:\u001b[0m\u001b[0;34m\u001b[0m\u001b[0;34m\u001b[0m\u001b[0m\n",
      "\u001b[0;32m/srv/conda/envs/notebook/lib/python3.7/site-packages/IPython/core/magics/script.py\u001b[0m in \u001b[0;36mshebang\u001b[0;34m(self, line, cell)\u001b[0m\n\u001b[1;32m    243\u001b[0m             \u001b[0msys\u001b[0m\u001b[0;34m.\u001b[0m\u001b[0mstderr\u001b[0m\u001b[0;34m.\u001b[0m\u001b[0mflush\u001b[0m\u001b[0;34m(\u001b[0m\u001b[0;34m)\u001b[0m\u001b[0;34m\u001b[0m\u001b[0;34m\u001b[0m\u001b[0m\n\u001b[1;32m    244\u001b[0m         \u001b[0;32mif\u001b[0m \u001b[0margs\u001b[0m\u001b[0;34m.\u001b[0m\u001b[0mraise_error\u001b[0m \u001b[0;32mand\u001b[0m \u001b[0mp\u001b[0m\u001b[0;34m.\u001b[0m\u001b[0mreturncode\u001b[0m\u001b[0;34m!=\u001b[0m\u001b[0;36m0\u001b[0m\u001b[0;34m:\u001b[0m\u001b[0;34m\u001b[0m\u001b[0;34m\u001b[0m\u001b[0m\n\u001b[0;32m--> 245\u001b[0;31m             \u001b[0;32mraise\u001b[0m \u001b[0mCalledProcessError\u001b[0m\u001b[0;34m(\u001b[0m\u001b[0mp\u001b[0m\u001b[0;34m.\u001b[0m\u001b[0mreturncode\u001b[0m\u001b[0;34m,\u001b[0m \u001b[0mcell\u001b[0m\u001b[0;34m,\u001b[0m \u001b[0moutput\u001b[0m\u001b[0;34m=\u001b[0m\u001b[0mout\u001b[0m\u001b[0;34m,\u001b[0m \u001b[0mstderr\u001b[0m\u001b[0;34m=\u001b[0m\u001b[0merr\u001b[0m\u001b[0;34m)\u001b[0m\u001b[0;34m\u001b[0m\u001b[0;34m\u001b[0m\u001b[0m\n\u001b[0m\u001b[1;32m    246\u001b[0m \u001b[0;34m\u001b[0m\u001b[0m\n\u001b[1;32m    247\u001b[0m     \u001b[0;32mdef\u001b[0m \u001b[0m_run_script\u001b[0m\u001b[0;34m(\u001b[0m\u001b[0mself\u001b[0m\u001b[0;34m,\u001b[0m \u001b[0mp\u001b[0m\u001b[0;34m,\u001b[0m \u001b[0mcell\u001b[0m\u001b[0;34m,\u001b[0m \u001b[0mto_close\u001b[0m\u001b[0;34m)\u001b[0m\u001b[0;34m:\u001b[0m\u001b[0;34m\u001b[0m\u001b[0;34m\u001b[0m\u001b[0m\n",
      "\u001b[0;31mCalledProcessError\u001b[0m: Command 'b'python report_coordinates_for_seq_within_FASTA.py sequence.fa evoli \"----GCGA\"\\n'' returned non-zero exit status 2."
     ]
    }
   ],
   "source": [
    "%%bash\n",
    "python report_coordinates_for_seq_within_FASTA.py sequence.fa evoli \"----GCGA\""
   ]
  },
  {
   "cell_type": "markdown",
   "metadata": {},
   "source": [
    "\n",
    "----\n",
    "\n",
    "Enjoy!\n",
    "\n",
    "Upload your own sequence files to any running Jupyter session and adapt the commands in this notebook to search wihin them. Edit the notebook or copy the necessary cells to make the script work with your own data.\n",
    "\n",
    "----\n",
    "### ADVANCED DEVELOPMENT NOTE\n",
    "\n",
    "If editing the script (***ATYPICAL***) and using import of the main function to test changes here in this Jupyter notebook, you'll need to run the following code in order to specifically trigger import of the updated version of the code for the function subsequent to any edit. Otherwise, without a restart of the kernel, the notebook environment will see any call to import the function and essentially ignore it as it considers that function already imported into the notebook environment."
   ]
  },
  {
   "cell_type": "code",
   "execution_count": null,
   "metadata": {},
   "outputs": [],
   "source": [
    "# Run this to have new code reflected in the version of the function in memory within the notebook namespace\n",
    "import importlib\n",
    "import report_coordinates_for_seq_within_FASTA; importlib.reload( report_coordinates_for_seq_within_FASTA ); from report_coordinates_for_seq_within_FASTA import report_coordinates_for_seq_within_FASTA\n",
    "# above line from https://stackoverflow.com/a/11724154/8508004"
   ]
  },
  {
   "cell_type": "markdown",
   "metadata": {},
   "source": [
    "----\n"
   ]
  }
 ],
 "metadata": {
  "kernelspec": {
   "display_name": "Python 3",
   "language": "python",
   "name": "python3"
  },
  "language_info": {
   "codemirror_mode": {
    "name": "ipython",
    "version": 3
   },
   "file_extension": ".py",
   "mimetype": "text/x-python",
   "name": "python",
   "nbconvert_exporter": "python",
   "pygments_lexer": "ipython3",
   "version": "3.7.3"
  }
 },
 "nbformat": 4,
 "nbformat_minor": 4
}
